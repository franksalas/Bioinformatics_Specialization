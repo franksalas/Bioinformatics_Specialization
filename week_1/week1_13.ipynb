{
 "cells": [
  {
   "cell_type": "markdown",
   "metadata": {},
   "source": [
    "## Some Hidden Messages are More Surprising than Others.\n",
    "### Step 1\n",
    "\n",
    "Recall that nucleotides `A` & `T` are complements of each other, as are `G` & `C`.\n",
    "\n",
    "- The beguining and  end of a DNA strand are denoted `5'`( pronounced 'five prime') and  `3'`(pronounced 'three prime').\n",
    "- The figure below shows a tempalte strand `AGTCGATAGT`  and its complementary strand `ACTATGCGACT`\n",
    "- eACH STRAND IS READ IN TEH `5' -> 3'` direction\n",
    "\n",
    "\n",
    "![](http://bioinformaticsalgorithms.com/images/Replication/reverse_complement.png)\n",
    "\n",
    "\n",
    "### Step 2\n",
    "\n",
    "Given a nucleotide `p`, we denote its complementary nuclotide as `p*`.\n",
    "\n",
    "The **reverse complement** of a string $Pattern=p_1...p_n$ is the string $Pattern_{rc}=p_n^{*}...p_1^{*}$ formed by taking the complement of each nucleotide in `Pattern`, then reversing the resulting sstring."
   ]
  },
  {
   "cell_type": "markdown",
   "metadata": {},
   "source": [
    "---\n",
    "***code challenge***\n",
    "\n",
    "**Reverse Complement Problem**: Find the revese complement of a DNA string.\n",
    "\n",
    "**Input**: A DNA strng\n",
    "\n",
    "**Output**: $Pattern_{rc}$, the reverse complemnt of `Pattern`\n",
    "\n",
    "sample input:`AAACCCGGT`\n",
    "\n",
    "sample output: `ACCGGTTTT`"
   ]
  },
  {
   "cell_type": "code",
   "execution_count": 1,
   "metadata": {
    "collapsed": true
   },
   "outputs": [],
   "source": [
    "#input:  AAAACCCGGT\n",
    "#output: ACCGGGTTTT\n",
    "# T -> A, A -> T\n",
    "# G -> C, C -> G\n",
    "#code = {'A': 'T','T':'A','C':'G', 'G':'C'}\n",
    "def reverse_code(text):\n",
    "    code = {'A': 'T','T':'A','C':'G', 'G':'C'}\n",
    "    new_text = ''\n",
    "    rev_t = text[::-1]\n",
    "    for i in (rev_t):\n",
    "        if i in code.keys():\n",
    "            new_text += code.get(i)\n",
    "        else:\n",
    "            print('not!')\n",
    "    return new_text"
   ]
  },
  {
   "cell_type": "code",
   "execution_count": 2,
   "metadata": {},
   "outputs": [
    {
     "data": {
      "text/plain": [
       "'ACCGGGTTTT'"
      ]
     },
     "execution_count": 2,
     "metadata": {},
     "output_type": "execute_result"
    }
   ],
   "source": [
    "s_in='AAAACCCGGT'\n",
    "reverse_code(s_in)"
   ]
  },
  {
   "cell_type": "markdown",
   "metadata": {},
   "source": [
    "## Step 3\n",
    "Look again at the four most frequent `9-mers` in the *ori* of *Vibrio choleare*\n",
    " - ATGATCAAG\n",
    " - CTTGATCAT\n",
    " - TCTTGATCA\n",
    " - CTCTTGATC\n",
    " \n",
    " \n",
    "```\n",
    "atcaatgatcaacgtaagcttctaagcATGATCAAGgtgctcacacagtttatccacaac ctgagtggatgacatcaagataggtcgttgtatctccttcctctcgtactctcatgacca cggaaagATGATCAAGagaggatgatttcttggccatatcgcaatgaatacttgtgactt gtgcttccaattgacatcttcagcgccatattgcgctggccaaggtgacggagcgggatt acgaaagcatgatcatggctgttgttctgtttatcttgttttgactgagacttgttagga tagacggtttttcatcactgactagccaaagccttactctgcctgacatcgaccgtaaat tgataatgaatttacatgcttccgcgacgatttacCTCTTGATCATcgatccgattgaag atcttcaattgttaattctcttgcctcgactcatagccatgatgagCTCTTGATCATgtt tccttaaccctctattttttacggaagaATGATCAAGctgctgCTCTTGATCATcgtttc \n",
    "```\n",
    "\n",
    "## Step 4\n",
    "Among those four:\n",
    " - ATGATCAAG\n",
    " - CTTGATCAT\n",
    "\n",
    "Are reverse complements of each other!.  Resulting in the siz total occurrences of these strings show below:\n",
    "\n",
    "\n",
    "```text\n",
    "atcaatgatcaacgtaagcttctaagcATGATCAAGgtgctcacacagtttatccacaac ctgagtggatgacatcaagataggtcgttgtatctccttcctctcgtactctcatgacca cggaaagATGATCAAGagaggatgatttcttggccatatcgcaatgaatacttgtgactt gtgcttccaattgacatcttcagcgccatattgcgctggccaaggtgacggagcgggatt acgaaagcatgatcatggctgttgttctgtttatcttgttttgactgagacttgttagga tagacggtttttcatcactgactagccaaagccttactctgcctgacatcgaccgtaaat tgataatgaatttacatgcttccgcgacgatttacctCTTGATCATcgatccgattgaag atcttcaattgttaattctcttgcctcgactcatagccatgatgagctCTTGATCATgtt tccttaaccctctattttttacggaagaATGATCAAGctgctgctCTTGATCATcgtttc\n",
    "```"
   ]
  },
  {
   "cell_type": "code",
   "execution_count": 3,
   "metadata": {},
   "outputs": [
    {
     "data": {
      "text/plain": [
       "'CTTGATCAT'"
      ]
     },
     "execution_count": 3,
     "metadata": {},
     "output_type": "execute_result"
    }
   ],
   "source": [
    "reverse_code('ATGATCAAG')"
   ]
  },
  {
   "cell_type": "code",
   "execution_count": 4,
   "metadata": {},
   "outputs": [
    {
     "data": {
      "text/plain": [
       "'ATGATCAAG'"
      ]
     },
     "execution_count": 4,
     "metadata": {},
     "output_type": "execute_result"
    }
   ],
   "source": [
    "reverse_code('CTTGATCAT')"
   ]
  },
  {
   "cell_type": "markdown",
   "metadata": {},
   "source": [
    "Finding a 9-mer that appears six times (either as itself or as its reverse complement) in a DNA string of length 500 is far more surprising than finding a 9-mer that appears three times (as itself). This observation leads us to the working hypothesis that $ATGATCAAG$ and its reverse complement $CTTGATCAT$ indeed represent DnaA boxes in Vibrio cholerae. \n",
    "\n",
    "This computational conclusion makes sense biologically because the DnaA protein that binds to DnaA boxes and initiates replication does not care which of the two strands it binds to. Thus, for our purposes, both $ATGATCAAG$ and $CTTGATCAT$ represent DnaA boxes.\n",
    "\n",
    "However, before concluding that we have found the DnaA box of Vibrio cholerae, the careful bioinformatician should check if there are other short regions in the Vibrio cholerae genome exhibiting multiple occurrences of $ATGATCAAG$ (or $CTTGATCAT$). After all, maybe these strings occur as repeats throughout the entire Vibrio cholerae genome, rather than just in the ori region. To this end, we need to solve the following problem."
   ]
  },
  {
   "cell_type": "markdown",
   "metadata": {},
   "source": [
    "#### Code Challenge: Solve the Pattern Matching Problem.\n",
    "- Input: Two strings, Pattern and Genome.\n",
    "- Output: A collection of space-separated integers specifying all starting positions where Pattern appears as a substring of Genome.\n",
    "\n",
    "example:\n",
    "- Input:\n",
    "    - pattern:ATAT\n",
    "    - genome: GATATATGCATATACTT\n",
    "- Output:\n",
    "    - 1 3 9"
   ]
  },
  {
   "cell_type": "code",
   "execution_count": 5,
   "metadata": {},
   "outputs": [
    {
     "data": {
      "text/plain": [
       "[1, 3, 9]"
      ]
     },
     "execution_count": 5,
     "metadata": {},
     "output_type": "execute_result"
    }
   ],
   "source": [
    "# clean but not good for large db\n",
    "pat = 'ATAT'\n",
    "gen = 'GATATATGCATATACTT'\n",
    "\n",
    "def find_pat_loc(pattern, genome):\n",
    "    loc = [n for n in range(len(genome)) if gen.find(pattern, n) == n]\n",
    "    return loc\n",
    "        \n",
    "        \n",
    "find_pat_loc(pat,gen)"
   ]
  },
  {
   "cell_type": "markdown",
   "metadata": {},
   "source": [
    "## Step 6\n",
    "Exercise Break(HT): REturn a spaced-separated list of starting postions (in increasing order) whre `CTTGATCAT` appears as a substing in the *Vibrio cholerae* genome."
   ]
  },
  {
   "cell_type": "code",
   "execution_count": 6,
   "metadata": {},
   "outputs": [
    {
     "data": {
      "text/plain": [
       "True"
      ]
     },
     "execution_count": 6,
     "metadata": {},
     "output_type": "execute_result"
    }
   ],
   "source": [
    "# load file\n",
    "import os\n",
    "filename = \"/home/nbuser/Vibrio_cholerae.txt\"\n",
    "\n",
    "with open(filename) as f:\n",
    "    vibr_c = f.read()\n",
    "f.closed"
   ]
  },
  {
   "cell_type": "code",
   "execution_count": 7,
   "metadata": {},
   "outputs": [
    {
     "data": {
      "text/plain": [
       "[1, 3, 9]"
      ]
     },
     "execution_count": 7,
     "metadata": {},
     "output_type": "execute_result"
    }
   ],
   "source": [
    "pat = 'ATAT'\n",
    "gen = 'GATATATGCATATACTT'\n",
    "\n",
    "def v_patt(genome,pattern):\n",
    "    pat_len = len(pattern)\n",
    "    result = []\n",
    "    for i in range(len(genome)):\n",
    "        pat_fin = genome[i:i+pat_len]\n",
    "        if pat_fin == pattern:\n",
    "            result.append(i)\n",
    "        #print(i,pat_fin)\n",
    "    return result\n",
    "\n",
    "v_patt(gen,pat)"
   ]
  },
  {
   "cell_type": "code",
   "execution_count": 13,
   "metadata": {},
   "outputs": [
    {
     "data": {
      "text/plain": [
       "{60039: 'CTTGATCAT',\n",
       " 98409: 'CTTGATCAT',\n",
       " 129189: 'CTTGATCAT',\n",
       " 152283: 'CTTGATCAT',\n",
       " 152354: 'CTTGATCAT',\n",
       " 152411: 'CTTGATCAT',\n",
       " 163207: 'CTTGATCAT',\n",
       " 197028: 'CTTGATCAT',\n",
       " 200160: 'CTTGATCAT',\n",
       " 357976: 'CTTGATCAT',\n",
       " 376771: 'CTTGATCAT',\n",
       " 392723: 'CTTGATCAT',\n",
       " 532935: 'CTTGATCAT',\n",
       " 600085: 'CTTGATCAT',\n",
       " 622755: 'CTTGATCAT',\n",
       " 1065555: 'CTTGATCAT'}"
      ]
     },
     "execution_count": 13,
     "metadata": {},
     "output_type": "execute_result"
    }
   ],
   "source": [
    "# 16 instances\n",
    "pat_6 = 'CTTGATCAT'\n",
    "v_patt(vibr_c,pat_6)"
   ]
  },
  {
   "cell_type": "code",
   "execution_count": 14,
   "metadata": {},
   "outputs": [
    {
     "data": {
      "text/plain": [
       "{116556: 'ATGATCAAG',\n",
       " 149355: 'ATGATCAAG',\n",
       " 151913: 'ATGATCAAG',\n",
       " 152013: 'ATGATCAAG',\n",
       " 152394: 'ATGATCAAG',\n",
       " 186189: 'ATGATCAAG',\n",
       " 194276: 'ATGATCAAG',\n",
       " 200076: 'ATGATCAAG',\n",
       " 224527: 'ATGATCAAG',\n",
       " 307692: 'ATGATCAAG',\n",
       " 479770: 'ATGATCAAG',\n",
       " 610980: 'ATGATCAAG',\n",
       " 653338: 'ATGATCAAG',\n",
       " 679985: 'ATGATCAAG',\n",
       " 768828: 'ATGATCAAG',\n",
       " 878903: 'ATGATCAAG',\n",
       " 985368: 'ATGATCAAG'}"
      ]
     },
     "execution_count": 14,
     "metadata": {},
     "output_type": "execute_result"
    }
   ],
   "source": [
    "# 17 instances\n",
    "pat_7 = 'ATGATCAAG'\n",
    "v_patt(vibr_c,pat_7)"
   ]
  },
  {
   "cell_type": "code",
   "execution_count": 10,
   "metadata": {},
   "outputs": [
    {
     "data": {
      "text/plain": [
       "True"
      ]
     },
     "execution_count": 10,
     "metadata": {},
     "output_type": "execute_result"
    }
   ],
   "source": [
    "pat_6 == reverse_code(pat_7)"
   ]
  },
  {
   "cell_type": "code",
   "execution_count": 11,
   "metadata": {},
   "outputs": [
    {
     "data": {
      "text/plain": [
       "True"
      ]
     },
     "execution_count": 11,
     "metadata": {},
     "output_type": "execute_result"
    }
   ],
   "source": [
    "pat_7 == reverse_code(pat_6)"
   ]
  },
  {
   "cell_type": "code",
   "execution_count": 12,
   "metadata": {},
   "outputs": [
    {
     "data": {
      "text/plain": [
       "{1: 'ATAT', 3: 'ATAT', 9: 'ATAT'}"
      ]
     },
     "execution_count": 12,
     "metadata": {},
     "output_type": "execute_result"
    }
   ],
   "source": [
    "pat = 'ATAT'\n",
    "gen = 'GATATATGCATATACTT'\n",
    "\n",
    "def v_patt(genome,pattern):\n",
    "    pat_len = len(pattern)\n",
    "    result = []\n",
    "    dic ={}\n",
    "    for i in range(len(genome)):\n",
    "        pat_fin = genome[i:i+pat_len]\n",
    "        if pat_fin == pattern:\n",
    "            if pat_fin not in dic.keys():\n",
    "                dic[i] = pat_fin\n",
    "            result.append(i)\n",
    "        #print(i,pat_fin)\n",
    "    return dic\n",
    "\n",
    "v_patt(gen,pat)"
   ]
  },
  {
   "cell_type": "markdown",
   "metadata": {
    "collapsed": true
   },
   "source": [
    "After solving the Pattern Matching Problem, we discover that ATGATCAAG appears 17 times in the following starting positions of the Vibrio cholerae genome:\n",
    "\n",
    "```python\n",
    "[116556, 149355, 151913, 152013, 152394, 186189, 194276, 200076, 224527,\n",
    "307692, 479770, 610980, 653338, 679985, 768828, 878903, 985368]\n",
    "```\n",
    "With the exception of the three occurrences of `ATGATCAAG` in ori at starting positions **151913, 152013, and 152394**, no other instances of `ATGATCAAG` form clumps, i.e., appear close to each other in a small region of the genome.\n",
    "\n",
    "You may check that the same conclusion is reached when searching for `CTTGATCAT`. We now have strong statistical evidence that `ATGATCAAG/CTTGATCAT` may represent the hidden message to DnaA to start replication."
   ]
  },
  {
   "cell_type": "code",
   "execution_count": null,
   "metadata": {
    "collapsed": true
   },
   "outputs": [],
   "source": []
  }
 ],
 "metadata": {
  "kernelspec": {
   "display_name": "Python 3.6",
   "language": "python",
   "name": "python36"
  },
  "language_info": {
   "codemirror_mode": {
    "name": "ipython",
    "version": 3
   },
   "file_extension": ".py",
   "mimetype": "text/x-python",
   "name": "python",
   "nbconvert_exporter": "python",
   "pygments_lexer": "ipython3",
   "version": "3.6.0"
  }
 },
 "nbformat": 4,
 "nbformat_minor": 2
}

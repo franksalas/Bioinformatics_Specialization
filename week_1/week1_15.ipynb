{
 "cells": [
  {
   "cell_type": "markdown",
   "metadata": {
    "collapsed": true
   },
   "source": [
    "## 1.5 CS: The Frequency Array\n",
    "\n",
    "\n",
    "To make **FrequentWords** faster, we will think about why this algorithm is slow in the first place. It slides a window of length k down Text, identifying a k mer Pattern of Text at each step. For each such k-mer, it must slide a window down the entire length of Text in order to compute `PatternCount(Text, Pattern)`. Instead of doing all this sliding, we aspire to slide a window down Text only once. As we slide this window, we will keep track of the number of times that each k-mer Pattern has already appeared in Text, updating these numbers as we proceed.\n",
    "\n",
    "To achieve this goal, we will first order all $4^k$ k-mers lexicographically (i.e., according to how they would appear in the dictionary) and then convert them into the $4^k$ different integers between 0 and $4^k − 1$. \n",
    "\n",
    "Given an integer $k$, we define the frequency array of a string Text as an array of length $4^k$, where the i-th element of the array holds the number of times that the i-th k-mer (in the lexicographic order) appears in Text (see figure below).\n",
    "\n",
    "To compute the frequency array, we need to determine how to transform a k-mer Pattern into an integer using a function `PatternToNumber(Pattern)`. We also should know how to reverse this process, transforming an integer between 0 and $4^k − 1$ into a k-mer using a function `NumberToPattern(index, k)`.\n",
    "\n",
    " In the figure below, we can see that `PatternToNumber(GT) = 11` and `NumberToPattern(11, 2) = GT`.\n",
    "![image](http://bioinformaticsalgorithms.com/images/Replication/frequency_array.png)\n",
    "\n",
    "**Figure**: Lexicographic order of `DNA 2-mers` (top), along with the index of each k-mer in this order (middle), and the\n",
    "          frequency array for `AAGCAAAGGTGGG` (bottom). For example, the frequency array at index 10 is equal to 3 because\n",
    "          `GG`, the tenth DNA 2-mer according to lexicographic order, occurs three times in `AAGCAAAGGTGGG`."
   ]
  },
  {
   "cell_type": "code",
   "execution_count": null,
   "metadata": {
    "collapsed": true
   },
   "outputs": [],
   "source": []
  }
 ],
 "metadata": {
  "kernelspec": {
   "display_name": "Python 3.6",
   "language": "python",
   "name": "python36"
  },
  "language_info": {
   "codemirror_mode": {
    "name": "ipython",
    "version": 3
   },
   "file_extension": ".py",
   "mimetype": "text/x-python",
   "name": "python",
   "nbconvert_exporter": "python",
   "pygments_lexer": "ipython3",
   "version": "3.6.0"
  }
 },
 "nbformat": 4,
 "nbformat_minor": 2
}

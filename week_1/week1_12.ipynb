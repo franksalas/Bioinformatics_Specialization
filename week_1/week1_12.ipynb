{
 "cells": [
  {
   "cell_type": "markdown",
   "metadata": {},
   "source": [
    "## Counting Words\n",
    "\n",
    "Operating under the assumption that DNA is a language of its own, let's borrow Legrand's method and see if we can find any surprisingly frequent \"words\" within the ori of Vibrio cholerae. We have added reason to look for frequent words in the ori because for various biological processes, certain nucleotide strings often appear surprisingly often in small regions of the genome. This is often because certain proteins can only bind to DNA if a specific string of nucleotides is present, and if there are more occurrences of the string, then it is more likely that binding will successfully occur. (It is also less likely that a mutation will disrupt the binding process.)\n",
    "\n",
    "For example, `ACTAT` is a surprisingly frequent substring of `ACAACTATGCATACTATCGGGAACTATCCT`.\n",
    "\n",
    "We will use the term **k-mer** to refer to a string of length `k` and define `Count(Text, Pattern)` as the number of times that a `k-mer` Pattern appears as a substring of Text.\n",
    "\n",
    "Following the above example,\n",
    "`Count(ACAACTATGCATACTATCGGGAACTATCCT, ACTAT) = 3`.\n",
    "\n",
    "We note that `Count(CGATATATCCATAG, ATA)` is equal to 3 (not 2) since we should account for overlapping occurrences of Pattern in Text"
   ]
  },
  {
   "cell_type": "markdown",
   "metadata": {
    "collapsed": true
   },
   "source": [
    "## Patterncount\n",
    "\n",
    "If you are following the Honors Track, then you should complete the \"Code Challenge\" assessments you encounter. If not, there is no need to learn to program or complete Code Challenges. If you haven't programmed before and are interested in learning how, we suggest our \"Biology Meets Programming\" course.\n",
    "\n",
    "Code Challenge: Implement PatternCount (reproduced below).\n",
    "- Input: Strings Text and Pattern.\n",
    "- Output: Count(Text, Pattern).\n",
    "     \n",
    "     \n",
    "```pseudocode\n",
    "PatternCount(Text, Pattern)\n",
    "    count ← 0\n",
    "    for i ← 0 to |Text| − |Pattern|\n",
    "        if Text(i, |Pattern|) = Pattern\n",
    "            count ← count + 1\n",
    "    return count\n",
    "```\n",
    "Some notes on how code challenges work:\n",
    "\n",
    "When you click \"Download Dataset\", you will receive a randomized dataset. Run your program (in the programming language of your choice) on this dataset, and then return the output of your program in the text field below. (Please do not enter your code in the browser.)\n",
    "You can see how you should format your answer by looking at the sample output and extra dataset.\n",
    "Every time you click \"Try Again\", you will need to download a new dataset.\n"
   ]
  },
  {
   "cell_type": "code",
   "execution_count": 2,
   "metadata": {
    "collapsed": true
   },
   "outputs": [],
   "source": [
    "# non overlapping pattern\n",
    "# def patternCount(text, pattern):\n",
    "#     return text.count(pattern)\n",
    "seg = \"ACAACTATGCATACTATCGGGAACTATCCT\"\n",
    "pattern = \"ACTAT\"\n",
    "\n",
    "def patternCount(text, pattern):\n",
    "    '''\n",
    "    text: long string\n",
    "    pattern: a snippit string\n",
    "    return: times the pattern is in the text string, including overlaps\n",
    "    '''\n",
    "    count = 0                              # start at 0\n",
    "    pat_len = len(pattern)                 # length of the pattern\n",
    "    for i in range(len(text)):            # for every letter in the text string\n",
    "        if text[i:i+pat_len] == pattern:  # if current letter: up to current lette and the length \n",
    "            count +=1                     # of the pattern equals the pattern, add it to teh count var\n",
    "    return count                           # return the count var"
   ]
  },
  {
   "cell_type": "code",
   "execution_count": 3,
   "metadata": {},
   "outputs": [
    {
     "data": {
      "text/plain": [
       "3"
      ]
     },
     "execution_count": 3,
     "metadata": {},
     "output_type": "execute_result"
    }
   ],
   "source": [
    "patternCount(seg, pattern)"
   ]
  },
  {
   "cell_type": "code",
   "execution_count": 4,
   "metadata": {},
   "outputs": [
    {
     "data": {
      "text/plain": [
       "2"
      ]
     },
     "execution_count": 4,
     "metadata": {},
     "output_type": "execute_result"
    }
   ],
   "source": [
    "sample_txt = 'GCGCG'\n",
    "sample_pat = 'GCG'\n",
    "patternCount(sample_txt,sample_pat)"
   ]
  },
  {
   "cell_type": "markdown",
   "metadata": {},
   "source": [
    "# The Frequent Words Problem\n",
    "\n",
    "We say that Pattern is a *most frequent k-mer* in Text if it maximizes `Count(Text, Pattern)` among all **k-mers**. You can see that:\n",
    "- `ACTAT` is a most frequent `5-mer` of `ACAACTATGCATACTATCGGGAACTATCCT`\n",
    "- `ATA` is a most frequent `3-mer` of `CGATATATCCATAG`.\n",
    "\n",
    "\n",
    "\n",
    "## Frequent words\n",
    "A straightforward algorithm for finding the most frequent k-mers in a string Text checks all k-mers appearing in this string (there are\n",
    "- `|Text| − k + 1 such k-mers`)\n",
    "and then computes how many times each k-mer appears in Text. \n",
    "\n",
    "To implement this algorithm, called FrequentWords, we will need to generate an array Count, where `Count(i)` stores `Count(Text, Pattern)` for `Pattern = Text(i, k)` (see figure below).\n",
    "\n",
    "![](https://ucarecdn.com/8367f24c-c989-4ad1-b5a4-9ab2dafa3a10/)\n",
    "\n",
    "\n",
    "> Figure: The array Count for Text = ACTGACTCCCACCCC and k = 3. For example, Count(0) = Count(4) = 2 because ACT (shown in boldface) appears twice in Text.\n",
    "\n",
    "The pseudocode for FrequentWords is shown below.\n",
    "\n",
    "```\n",
    "FrequentWords(Text, k)\n",
    "    FrequentPatterns ← an empty set\n",
    "    for i ← 0 to |Text| − k\n",
    "        Pattern ← the k-mer Text(i, k)\n",
    "        Count(i) ← PatternCount(Text, Pattern)\n",
    "    maxCount ← maximum value in array Count\n",
    "    for i ← 0 to |Text| − k\n",
    "        if Count(i) = maxCount\n",
    "            add Text(i, k) to FrequentPatterns\n",
    "    remove duplicates from FrequentPatterns\n",
    "    return FrequentPatterns\n",
    "        ```"
   ]
  },
  {
   "cell_type": "code",
   "execution_count": 3,
   "metadata": {
    "collapsed": true
   },
   "outputs": [],
   "source": [
    "ker_5 = 'ACAACTATGCATACTATCGGGAACTATCCT'\n",
    "\n",
    "ker_3 = \"CGATATATCCATAG\"\n",
    "sample_4 = \"ACGTTGCATGTCGCATGATGCATGAGAGCT\"\n",
    "k_mer = 'atcaatgatcaacgtaagcttctaagcatgatcaaggtgctcacacagtttatccacaac\\\n",
    "ctgagtggatgacatcaagataggtcgttgtatctccttcctctcgtactctcatgacca\\\n",
    "cggaaagatgatcaagagaggatgatttcttggccatatcgcaatgaatacttgtgactt\\\n",
    "gtgcttccaattgacatcttcagcgccatattgcgctggccaaggtgacggagcgggatt\\\n",
    "acgaaagcatgatcatggctgttgttctgtttatcttgttttgactgagacttgttagga\\\n",
    "tagacggtttttcatcactgactagccaaagccttactctgcctgacatcgaccgtaaat\\\n",
    "tgataatgaatttacatgcttccgcgacgatttacctcttgatcatcgatccgattgaag\\\n",
    "atcttcaattgttaattctcttgcctcgactcatagccatgatgagctcttgatcatgtt\\\n",
    "tccttaaccctctattttttacggaagaatgatcaagctgctgctcttgatcatcgtttc'"
   ]
  },
  {
   "cell_type": "code",
   "execution_count": 5,
   "metadata": {
    "collapsed": true
   },
   "outputs": [],
   "source": [
    "def frequentwords(my_word, k):\n",
    "    my_dic = {}\n",
    "    my_list = []\n",
    "    for i in range(len(my_word)):\n",
    "        word = my_word[i:i+k]\n",
    "        if len(word) == k and word not in my_dic.keys():\n",
    "            my_dic[word] = 1\n",
    "        elif len(word) == k and word in my_dic.keys():\n",
    "                my_dic[word] += 1\n",
    "    top_ker =  max(my_dic.values())\n",
    "    for key,val in my_dic.items():\n",
    "        if val == top_ker:\n",
    "            my_list.append(key)\n",
    "        \n",
    "    return my_list"
   ]
  },
  {
   "cell_type": "code",
   "execution_count": 6,
   "metadata": {},
   "outputs": [
    {
     "data": {
      "text/plain": [
       "['tgatc', 'gatca']"
      ]
     },
     "execution_count": 6,
     "metadata": {},
     "output_type": "execute_result"
    }
   ],
   "source": [
    "frequentwords(k_mer, 5)"
   ]
  },
  {
   "cell_type": "code",
   "execution_count": 7,
   "metadata": {
    "collapsed": true
   },
   "outputs": [],
   "source": [
    "# edit display k, count, kmers\n",
    "def frequentwords(my_word, k):\n",
    "    my_dic = {}\n",
    "    k_d = {}\n",
    "    for i in range(len(my_word)):\n",
    "        word = my_word[i:i+k]\n",
    "        if len(word) == k and word not in my_dic.keys():\n",
    "            my_dic[word] = 1\n",
    "        elif len(word) == k and word in my_dic.keys():\n",
    "                my_dic[word] += 1\n",
    "    top_ker =  max(my_dic.values())\n",
    "    for key,val in my_dic.items():\n",
    "        if val == top_ker:\n",
    "            k_d[key] = val\n",
    "    return k_d"
   ]
  },
  {
   "cell_type": "code",
   "execution_count": 8,
   "metadata": {},
   "outputs": [
    {
     "data": {
      "text/plain": [
       "{'gatca': 8, 'tgatc': 8}"
      ]
     },
     "execution_count": 8,
     "metadata": {},
     "output_type": "execute_result"
    }
   ],
   "source": [
    "frequentwords(k_mer, 5)"
   ]
  },
  {
   "cell_type": "code",
   "execution_count": 9,
   "metadata": {
    "collapsed": true
   },
   "outputs": [],
   "source": [
    "# clean up\n",
    "# edit display k, count, kmers\n",
    "def frequentwords(my_word, k):\n",
    "    my_dic = {}\n",
    "    k_d = {}\n",
    "    for i in range(len(my_word)):\n",
    "        word = my_word[i:i+k]\n",
    "        if len(word) == k and word not in my_dic.keys():\n",
    "            my_dic[word] = 1\n",
    "        elif len(word) == k and word in my_dic.keys():\n",
    "                my_dic[word] += 1\n",
    "    #top_ker =  max(my_dic.values())\n",
    "    sol= { k:v for k, v in my_dic.items() if v == max(my_dic.values()) }\n",
    "    return sol"
   ]
  },
  {
   "cell_type": "code",
   "execution_count": 10,
   "metadata": {},
   "outputs": [
    {
     "data": {
      "text/plain": [
       "{'atgatcaag': 3, 'ctcttgatc': 3, 'cttgatcat': 3, 'tcttgatca': 3}"
      ]
     },
     "execution_count": 10,
     "metadata": {},
     "output_type": "execute_result"
    }
   ],
   "source": [
    "frequentwords(k_mer, 9)"
   ]
  },
  {
   "cell_type": "code",
   "execution_count": 11,
   "metadata": {},
   "outputs": [
    {
     "data": {
      "text/plain": [
       "True"
      ]
     },
     "execution_count": 11,
     "metadata": {},
     "output_type": "execute_result"
    }
   ],
   "source": [
    "import os\n",
    "filename = \"/home/nbuser/Vibrio_cholerae.txt\"\n",
    "\n",
    "with open(filename) as f:\n",
    "    vibr_c = f.read()\n",
    "f.closed"
   ]
  },
  {
   "cell_type": "code",
   "execution_count": 12,
   "metadata": {},
   "outputs": [
    {
     "data": {
      "text/plain": [
       "{'TT': 95191}"
      ]
     },
     "execution_count": 12,
     "metadata": {},
     "output_type": "execute_result"
    }
   ],
   "source": [
    "frequentwords(vibr_c, 2)"
   ]
  },
  {
   "cell_type": "code",
   "execution_count": 13,
   "metadata": {},
   "outputs": [
    {
     "data": {
      "text/plain": [
       "{'TTT': 31901}"
      ]
     },
     "execution_count": 13,
     "metadata": {},
     "output_type": "execute_result"
    }
   ],
   "source": [
    "frequentwords(vibr_c, 3)"
   ]
  },
  {
   "cell_type": "code",
   "execution_count": 14,
   "metadata": {},
   "outputs": [
    {
     "data": {
      "text/plain": [
       "{'TTTT': 10206}"
      ]
     },
     "execution_count": 14,
     "metadata": {},
     "output_type": "execute_result"
    }
   ],
   "source": [
    "frequentwords(vibr_c, 4)"
   ]
  },
  {
   "cell_type": "code",
   "execution_count": 15,
   "metadata": {},
   "outputs": [
    {
     "data": {
      "text/plain": [
       "{'TTTTT': 3193}"
      ]
     },
     "execution_count": 15,
     "metadata": {},
     "output_type": "execute_result"
    }
   ],
   "source": [
    "frequentwords(vibr_c, 5)"
   ]
  },
  {
   "cell_type": "code",
   "execution_count": 16,
   "metadata": {},
   "outputs": [
    {
     "data": {
      "text/plain": [
       "{'ATTTTT': 866}"
      ]
     },
     "execution_count": 16,
     "metadata": {},
     "output_type": "execute_result"
    }
   ],
   "source": [
    "frequentwords(vibr_c, 6)"
   ]
  },
  {
   "cell_type": "code",
   "execution_count": null,
   "metadata": {},
   "outputs": [
    {
     "data": {
      "text/plain": [
       "{'AAACTCA': 326}"
      ]
     },
     "execution_count": 17,
     "metadata": {},
     "output_type": "execute_result"
    }
   ],
   "source": [
    "frequentwords(vibr_c, 7)"
   ]
  },
  {
   "cell_type": "code",
   "execution_count": null,
   "metadata": {
    "collapsed": true
   },
   "outputs": [],
   "source": [
    "frequentwords(vibr_c, 8)"
   ]
  },
  {
   "cell_type": "code",
   "execution_count": null,
   "metadata": {
    "collapsed": true
   },
   "outputs": [],
   "source": [
    "frequentwords(vibr_c, 9)"
   ]
  },
  {
   "cell_type": "code",
   "execution_count": null,
   "metadata": {
    "collapsed": true
   },
   "outputs": [],
   "source": [
    "vibr_c"
   ]
  },
  {
   "cell_type": "code",
   "execution_count": null,
   "metadata": {
    "collapsed": true
   },
   "outputs": [],
   "source": [
    "type(vibr_c)"
   ]
  },
  {
   "cell_type": "code",
   "execution_count": null,
   "metadata": {
    "collapsed": true
   },
   "outputs": [],
   "source": [
    "vibr_c.count('ATGATCAAG')"
   ]
  },
  {
   "cell_type": "code",
   "execution_count": null,
   "metadata": {
    "collapsed": true
   },
   "outputs": [],
   "source": [
    "frequentwords(k_mer, 9)"
   ]
  },
  {
   "cell_type": "code",
   "execution_count": null,
   "metadata": {
    "collapsed": true
   },
   "outputs": [],
   "source": []
  }
 ],
 "metadata": {
  "kernelspec": {
   "display_name": "Python 3.6",
   "language": "python",
   "name": "python36"
  },
  "language_info": {
   "codemirror_mode": {
    "name": "ipython",
    "version": 3
   },
   "file_extension": ".py",
   "mimetype": "text/x-python",
   "name": "python",
   "nbconvert_exporter": "python",
   "pygments_lexer": "ipython3",
   "version": "3.6.0"
  }
 },
 "nbformat": 4,
 "nbformat_minor": 2
}
